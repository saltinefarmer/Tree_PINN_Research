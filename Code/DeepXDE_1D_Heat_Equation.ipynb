{
 "cells": [
  {
   "cell_type": "code",
   "execution_count": null,
   "metadata": {},
   "outputs": [],
   "source": [
    "import deepxde as dde\n",
    "import numpy as np\n",
    "import matplotlib.animation as ani\n",
    "import matplotlib.pyplot as plt"
   ]
  },
  {
   "cell_type": "code",
   "execution_count": null,
   "metadata": {},
   "outputs": [],
   "source": [
    "# constants\n",
    "LENGTH = 10\n",
    "DURATION = 15\n",
    "ALPHA = 1\n",
    "BASE_TEMP = 0"
   ]
  },
  {
   "cell_type": "code",
   "execution_count": null,
   "metadata": {},
   "outputs": [],
   "source": [
    "# domains\n",
    "time_domain = dde.geometry.TimeDomain(0, DURATION)\n",
    "space_domain = dde.geometry.Interval(0, LENGTH)\n",
    "\n",
    "domain = dde.geometry.GeometryXTime(space_domain, time_domain)"
   ]
  },
  {
   "cell_type": "code",
   "execution_count": null,
   "metadata": {},
   "outputs": [],
   "source": [
    "# partial differential equation\n",
    "# x is 0, t is 1\n",
    "def diff_EQ(inputs, u):\n",
    "    u_t = dde.grad.jacobian(u, inputs, i=0, j=1) # j = 1 specifies the column where t resides\n",
    "    u_xx = dde.grad.hessian(u, inputs, i=0, j=0) # j = 0 specifies the column where x resides\n",
    "    return [u_t - (ALPHA * u_xx)]"
   ]
  },
  {
   "cell_type": "code",
   "execution_count": null,
   "metadata": {},
   "outputs": [],
   "source": [
    "def is_boundary(inp, on_boundary):\n",
    "    return on_boundary\n",
    "\n",
    "def is_initial(inp, on_initial):\n",
    "    return on_initial\n",
    "\n",
    "bc = dde.icbc.DirichletBC(domain, lambda t: BASE_TEMP, is_boundary)\n",
    "ic = dde.icbc.IC(domain, lambda inp: 6 * np.sin((np.pi * inp[:, 0:1]) / LENGTH), is_initial)\n",
    "\n",
    "conditions = [bc, ic]"
   ]
  },
  {
   "cell_type": "code",
   "execution_count": null,
   "metadata": {},
   "outputs": [],
   "source": [
    "train_sample = 1000\n",
    "bound_sample = 100\n",
    "initial_sample = 100\n",
    "test_sample = 300\n",
    "\n",
    "def sol_function(inputs):\n",
    "    return 6 * np.sin((np.pi * inputs[:, 0:1]) / LENGTH) * np.exp(-ALPHA * (np.square(np.pi/LENGTH)) * inputs[:, 1:2])\n",
    "\n",
    "data = dde.data.TimePDE(domain, diff_EQ, conditions, num_domain=train_sample, num_boundary=bound_sample, num_initial=initial_sample, solution=sol_function, num_test=test_sample)"
   ]
  },
  {
   "cell_type": "code",
   "execution_count": null,
   "metadata": {},
   "outputs": [],
   "source": [
    "layer_size = [2] + [16] * 3 + [1]\n",
    "\n",
    "activation = \"tanh\"\n",
    "initializer = \"Glorot uniform\"\n",
    "dropout = .5\n",
    "\n",
    "network = dde.nn.FNN(layer_size, activation, initializer, dropout_rate=dropout)"
   ]
  },
  {
   "cell_type": "code",
   "execution_count": null,
   "metadata": {},
   "outputs": [],
   "source": [
    "model = dde.Model(data, network)\n",
    "\n",
    "model.compile(\"adam\", lr=.001)\n",
    "model.train(iterations=50000, display_every=500)\n",
    "\n",
    "model.compile(\"L-BFGS-B\")\n",
    "losshistory, train_state = model.train()\n",
    "\n",
    "\n",
    "dde.saveplot(losshistory, train_state, issave=True, isplot=True)"
   ]
  },
  {
   "cell_type": "code",
   "execution_count": null,
   "metadata": {},
   "outputs": [],
   "source": [
    "plt.ion()\n",
    "\n",
    "xty = [[train_state.X_test[i][0], train_state.X_test[i][1], train_state.best_y[i][0]] for i in range(len(train_state.best_y))]\n",
    "\n",
    "xty = sorted(xty, key=lambda x: x[:][0])\n",
    "xty = sorted(xty, key=lambda x: x[:][1])\n",
    "\n",
    "\n",
    "\n",
    "y = [xty[i][2] for i in range(len(xty))]\n",
    "t = [xty[i][1] for i in range(len(xty))]\n",
    "x = [xty[i][0] for i in range(len(xty))]\n",
    "\n",
    "\n",
    "fig, ax = plt.subplots()\n",
    "\n",
    "line = ax.plot(x[0], y[0], c=\"b\")[0]\n",
    "ax.set(xlim=[0, LENGTH], ylim=[0, 6], xlabel=\"bar\", ylabel=\"temp\")\n",
    "\n",
    "\n",
    "frames = []\n",
    "[frames.append(item) for item in t if item not in frames]\n",
    "\n",
    "\n",
    "\n",
    "\n",
    "\n",
    "def update(frame):\n",
    "\n",
    "    print(\"yo\")\n",
    "\n",
    "    loc = [x[i] for i in range(len(x)) if t[i] == frame]\n",
    "    temp = [y[i] for i in range(len(t)) if t[i] == frame]\n",
    "\n",
    "    line.set_xdata(loc)\n",
    "    line.set_ydata(temp)\n",
    "\n",
    "    return line\n",
    "\n",
    "\n",
    "animation = ani.FuncAnimation(fig=fig, func=update, frames=frames)\n",
    "# plt.show()\n"
   ]
  }
 ],
 "metadata": {
  "kernelspec": {
   "display_name": "Python 3",
   "language": "python",
   "name": "python3"
  },
  "language_info": {
   "codemirror_mode": {
    "name": "ipython",
    "version": 3
   },
   "file_extension": ".py",
   "mimetype": "text/x-python",
   "name": "python",
   "nbconvert_exporter": "python",
   "pygments_lexer": "ipython3",
   "version": "3.11.9"
  }
 },
 "nbformat": 4,
 "nbformat_minor": 2
}
