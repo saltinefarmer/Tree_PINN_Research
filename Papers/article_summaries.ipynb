{
 "cells": [
  {
   "cell_type": "markdown",
   "metadata": {},
   "source": [
    "Enforcing Dirichlet boundary conditions in physics-informed neural networks\n",
    "---\n",
    "Berrone\n",
    "\n",
    "\"In this paper, we present and compare four methods to enfore Dirichlet boundary conditions in Physics-Informed Neural Networks (PINNs) and Variational Physics-Informed Neural Networks (VPINNs). ... We show through several numerical tests that modifying the output of the neural network to exactly match the prescribed balues leads to more effcient and accurate solvers."
   ]
  },
  {
   "cell_type": "markdown",
   "metadata": {},
   "source": [
    "Three Ways to Solve Partial Differential Equations with Neural Networks\n",
    "---\n",
    "Blechschmidt\n",
    "\n",
    "\"In this expository review, we introduce and contrast three important recent approaches attractive in their simplicity and their suitability for high-dimensional problems...\""
   ]
  },
  {
   "cell_type": "markdown",
   "metadata": {},
   "source": [
    "Heat equation and its comparative solutions\n",
    "---\n",
    "Gorguis\n",
    "\n",
    "\"In this paper we will conduct an analytic comparative study between the powerful Adomian method and the traditional separation of variables method.\"\n",
    "\n",
    "This is the paper that introduced me to the heat equation."
   ]
  },
  {
   "cell_type": "markdown",
   "metadata": {},
   "source": [
    "A finite-difference model of temperatures and heat flow within a tree stem\n",
    "---\n",
    "Potter\n",
    "\n",
    "\"The authors present a finite-difference numerical model of heat flow within a horizontal section of a tree stem. Processes included in the model are solar radiative heating, infrared emission and absorption, convective heat exchange between tree surface and the atmosphere, and conduction inside the tree.\"\n",
    "\n",
    "Article Adam gave me - most closely related to research topic. Basic, but fully comprehensible and interesting."
   ]
  },
  {
   "cell_type": "markdown",
   "metadata": {},
   "source": [
    "A deep learning framework for solving forward and inverse problems involving nonlinear partial differential equations\n",
    "---\n",
    "Raissi\n",
    "\n",
    "\"In this work, we present our developments in the context of solving two main classes of problems: data-driven solution and data-driven discovery of partial differential equations. Depending on the nature and arrangement of the available data, we devise two distinct types of algorithms, namely continuous time and discrete time models.\""
   ]
  },
  {
   "cell_type": "markdown",
   "metadata": {},
   "source": [
    "Data-driven Solutions of Nonlinear Partial Differential Equations\n",
    "---\n",
    "Raissi\n",
    "\n",
    "\"We introduce physics informed neural networks... Depending on the nature and arrangement of the available data, we devise two distinct classes of algorithms, namely continuous time and discrete time models. The resulting neural networks form a new class of data-efficient universal function approximators that naturally encode any underlying physical laws as prior information. In this first part, we demonstrate how these networks can be used to infer solutions to partial differential equations, and obtain physics-informed surrogate models that are fully differentiable with respect to all input coordinates and free parameters.\"\n"
   ]
  }
 ],
 "metadata": {
  "language_info": {
   "name": "python"
  }
 },
 "nbformat": 4,
 "nbformat_minor": 2
}
