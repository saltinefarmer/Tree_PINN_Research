{
 "cells": [
  {
   "cell_type": "markdown",
   "metadata": {},
   "source": [
    "Blechschmidt - Three ways to solve partial differential equations with neural networks\n",
    "-------------------------------------\n",
    "\n",
    "Section 2 is about Physics-Informed Neural Networks\n",
    "\n",
    "A basic explanation of how PINNs work, with examples in various simple PDEs\n",
    "\n",
    "\"In contrast to other learning-based methods that try to infer the solution by a purely data-driven approach... PINNs take the underlying PDE(the \"physics\") into account.\"\n",
    " -- Basic quote pull explaining why to choose a PINN\n",
    "\n"
   ]
  },
  {
   "cell_type": "markdown",
   "metadata": {},
   "source": [
    "Judson - The Ordianry Differential Equations Project\n",
    "----\n",
    "https://judsonbooks.org/odeproject/odeproject-html/frontmatter.html\n",
    "\n",
    "\"An equation relating a function to one or more of its derivatives is called a differential equation.\"\n",
    "\n",
    "\"An initial value problem is a differential equation where the initial condition is specified.\""
   ]
  },
  {
   "cell_type": "markdown",
   "metadata": {},
   "source": [
    "https://github.com/AdrianDario10/Heat_Equation_1D/blob/main/main.py\n",
    "---\n",
    "\n",
    "This is the PINN that's not actually a PINN. Also broken. :(\n",
    "Gave idea for weighted average of loss, but it produced worse results"
   ]
  },
  {
   "cell_type": "markdown",
   "metadata": {},
   "source": [
    "https://arxiv.org/pdf/2010.02011\n",
    "---\n",
    "asking for code, pray for me"
   ]
  }
 ],
 "metadata": {
  "language_info": {
   "name": "python"
  }
 },
 "nbformat": 4,
 "nbformat_minor": 2
}
